{
 "cells": [
  {
   "cell_type": "markdown",
   "id": "f3f41c77",
   "metadata": {},
   "source": [
    "# SENTIMENT ANALYSIS\n"
   ]
  },
  {
   "cell_type": "markdown",
   "id": "05c24d79",
   "metadata": {},
   "source": [
    "**Import Libraries**"
   ]
  },
  {
   "cell_type": "code",
   "execution_count": 286,
   "id": "bafbd765",
   "metadata": {},
   "outputs": [],
   "source": [
    "##Basic ML Libraries\n",
    "\n",
    "import pandas as pd \n",
    "import numpy as np \n",
    "\n",
    "##Model evaluation\n",
    "\n",
    "from sklearn.metrics import accuracy_score, classification_report\n",
    "\n",
    "##Visualization\n",
    "\n",
    "import matplotlib.pyplot as plt\n",
    "%matplotlib inline\n",
    "from wordcloud import WordCloud\n",
    "\n",
    "##Data pre-processing\n",
    "import re\n",
    "import nltk\n",
    "from nltk.corpus import stopwords\n",
    "from nltk.stem import WordNetLemmatizer\n",
    "from nltk.tokenize import word_tokenize\n",
    "from nltk.stem.snowball import SnowballStemmer\n",
    "\n",
    "##Building model\n",
    "from sklearn.feature_extraction.text import TfidfVectorizer\n",
    "from sklearn.feature_extraction.text import CountVectorizer\n",
    "from sklearn.naive_bayes import MultinomialNB \n",
    "from sklearn.svm import SVC\n",
    "from sklearn.linear_model import LogisticRegression"
   ]
  },
  {
   "cell_type": "code",
   "execution_count": 314,
   "id": "8ab5015e",
   "metadata": {},
   "outputs": [],
   "source": [
    "# Step 1: Load the train and test datasets\n",
    "train_data = pd.read_csv(\"C:/Users/v-dmanasa/Downloads/train_Reviews.csv\")\n",
    "test_data = pd.read_csv(\"C:/Users/v-dmanasa/Downloads/test_Reviews.csv\")"
   ]
  },
  {
   "cell_type": "code",
   "execution_count": 315,
   "id": "deb34bd9",
   "metadata": {},
   "outputs": [
    {
     "data": {
      "text/html": [
       "<div>\n",
       "<style scoped>\n",
       "    .dataframe tbody tr th:only-of-type {\n",
       "        vertical-align: middle;\n",
       "    }\n",
       "\n",
       "    .dataframe tbody tr th {\n",
       "        vertical-align: top;\n",
       "    }\n",
       "\n",
       "    .dataframe thead th {\n",
       "        text-align: right;\n",
       "    }\n",
       "</style>\n",
       "<table border=\"1\" class=\"dataframe\">\n",
       "  <thead>\n",
       "    <tr style=\"text-align: right;\">\n",
       "      <th></th>\n",
       "      <th>Name</th>\n",
       "      <th>On a Scale of 1-5 Rate the Place</th>\n",
       "      <th>A Detailed Review of the Place</th>\n",
       "    </tr>\n",
       "  </thead>\n",
       "  <tbody>\n",
       "    <tr>\n",
       "      <th>0</th>\n",
       "      <td>Prakash</td>\n",
       "      <td>4.0</td>\n",
       "      <td>Awesome experience with a friend who was in a ...</td>\n",
       "    </tr>\n",
       "    <tr>\n",
       "      <th>1</th>\n",
       "      <td>Prashanth</td>\n",
       "      <td>3.0</td>\n",
       "      <td>It was a good visit to the Zoo. My son loved a...</td>\n",
       "    </tr>\n",
       "    <tr>\n",
       "      <th>2</th>\n",
       "      <td>Ashwin J</td>\n",
       "      <td>3.0</td>\n",
       "      <td>Have been wanting to visit this place since th...</td>\n",
       "    </tr>\n",
       "    <tr>\n",
       "      <th>3</th>\n",
       "      <td>Amit Khare</td>\n",
       "      <td>2.0</td>\n",
       "      <td>It was too overcrowded even to have a look pro...</td>\n",
       "    </tr>\n",
       "    <tr>\n",
       "      <th>4</th>\n",
       "      <td>ChennaiShaji</td>\n",
       "      <td>4.0</td>\n",
       "      <td>A land mark which you cannot miss while in the...</td>\n",
       "    </tr>\n",
       "  </tbody>\n",
       "</table>\n",
       "</div>"
      ],
      "text/plain": [
       "           Name  On a Scale of 1-5 Rate the Place  \\\n",
       "0       Prakash                               4.0   \n",
       "1     Prashanth                               3.0   \n",
       "2      Ashwin J                               3.0   \n",
       "3    Amit Khare                               2.0   \n",
       "4  ChennaiShaji                               4.0   \n",
       "\n",
       "                      A Detailed Review of the Place  \n",
       "0  Awesome experience with a friend who was in a ...  \n",
       "1  It was a good visit to the Zoo. My son loved a...  \n",
       "2  Have been wanting to visit this place since th...  \n",
       "3  It was too overcrowded even to have a look pro...  \n",
       "4  A land mark which you cannot miss while in the...  "
      ]
     },
     "execution_count": 315,
     "metadata": {},
     "output_type": "execute_result"
    }
   ],
   "source": [
    "train_data.head(5)"
   ]
  },
  {
   "cell_type": "code",
   "execution_count": 316,
   "id": "1236c827",
   "metadata": {},
   "outputs": [
    {
     "data": {
      "text/html": [
       "<div>\n",
       "<style scoped>\n",
       "    .dataframe tbody tr th:only-of-type {\n",
       "        vertical-align: middle;\n",
       "    }\n",
       "\n",
       "    .dataframe tbody tr th {\n",
       "        vertical-align: top;\n",
       "    }\n",
       "\n",
       "    .dataframe thead th {\n",
       "        text-align: right;\n",
       "    }\n",
       "</style>\n",
       "<table border=\"1\" class=\"dataframe\">\n",
       "  <thead>\n",
       "    <tr style=\"text-align: right;\">\n",
       "      <th></th>\n",
       "      <th>Name</th>\n",
       "      <th>A Detailed Review of the Place</th>\n",
       "    </tr>\n",
       "  </thead>\n",
       "  <tbody>\n",
       "    <tr>\n",
       "      <th>0</th>\n",
       "      <td>OctOriental</td>\n",
       "      <td>Great hub of hanging out, boating, eating and ...</td>\n",
       "    </tr>\n",
       "    <tr>\n",
       "      <th>1</th>\n",
       "      <td>Konganapally Laasya</td>\n",
       "      <td>It’s good and it was so long ago that I comple...</td>\n",
       "    </tr>\n",
       "    <tr>\n",
       "      <th>2</th>\n",
       "      <td>ShubH GhosH</td>\n",
       "      <td>Must be an imposing structure but really cant ...</td>\n",
       "    </tr>\n",
       "    <tr>\n",
       "      <th>3</th>\n",
       "      <td>Deepyayan Ghosh</td>\n",
       "      <td>Hussain Sagar Lake adds a good view but from a...</td>\n",
       "    </tr>\n",
       "    <tr>\n",
       "      <th>4</th>\n",
       "      <td>Shalini N</td>\n",
       "      <td>The temple is situated on a hilltop.  The view...</td>\n",
       "    </tr>\n",
       "  </tbody>\n",
       "</table>\n",
       "</div>"
      ],
      "text/plain": [
       "                  Name                     A Detailed Review of the Place\n",
       "0          OctOriental  Great hub of hanging out, boating, eating and ...\n",
       "1  Konganapally Laasya  It’s good and it was so long ago that I comple...\n",
       "2          ShubH GhosH  Must be an imposing structure but really cant ...\n",
       "3      Deepyayan Ghosh  Hussain Sagar Lake adds a good view but from a...\n",
       "4            Shalini N  The temple is situated on a hilltop.  The view..."
      ]
     },
     "execution_count": 316,
     "metadata": {},
     "output_type": "execute_result"
    }
   ],
   "source": [
    "test_data.head(5)"
   ]
  },
  {
   "cell_type": "markdown",
   "id": "8de46bd1",
   "metadata": {},
   "source": [
    "`Name` column doesn't provide much information here so we will drop the entire column from both dataset"
   ]
  },
  {
   "cell_type": "code",
   "execution_count": 317,
   "id": "30869b46",
   "metadata": {},
   "outputs": [],
   "source": [
    "train_data.drop('Name',axis=1,inplace=True)\n",
    "test_data.drop('Name',axis=1,inplace=True)"
   ]
  },
  {
   "cell_type": "markdown",
   "id": "d953311e",
   "metadata": {},
   "source": [
    "Dropping the `name column` in train dataset since it doesn't provide much information and tends to decrease the accuracy in our model."
   ]
  },
  {
   "cell_type": "markdown",
   "id": "e28878c0",
   "metadata": {},
   "source": [
    "**DATA UNDERSTANDING**"
   ]
  },
  {
   "cell_type": "code",
   "execution_count": 318,
   "id": "541c8e6b",
   "metadata": {},
   "outputs": [
    {
     "data": {
      "text/plain": [
       "(706, 2)"
      ]
     },
     "execution_count": 318,
     "metadata": {},
     "output_type": "execute_result"
    }
   ],
   "source": [
    "train_data.shape"
   ]
  },
  {
   "cell_type": "code",
   "execution_count": 319,
   "id": "5a967fb0",
   "metadata": {},
   "outputs": [
    {
     "data": {
      "text/plain": [
       "(348, 1)"
      ]
     },
     "execution_count": 319,
     "metadata": {},
     "output_type": "execute_result"
    }
   ],
   "source": [
    "test_data.shape"
   ]
  },
  {
   "cell_type": "markdown",
   "id": "65250c29",
   "metadata": {},
   "source": [
    "There are 705 rows and 3 variable in train dataset."
   ]
  },
  {
   "cell_type": "code",
   "execution_count": 320,
   "id": "e71e7338",
   "metadata": {},
   "outputs": [
    {
     "name": "stdout",
     "output_type": "stream",
     "text": [
      "<class 'pandas.core.frame.DataFrame'>\n",
      "RangeIndex: 706 entries, 0 to 705\n",
      "Data columns (total 2 columns):\n",
      " #   Column                            Non-Null Count  Dtype  \n",
      "---  ------                            --------------  -----  \n",
      " 0   On a Scale of 1-5 Rate the Place  676 non-null    float64\n",
      " 1   A Detailed Review of the Place    705 non-null    object \n",
      "dtypes: float64(1), object(1)\n",
      "memory usage: 11.2+ KB\n"
     ]
    }
   ],
   "source": [
    "train_data.info()"
   ]
  },
  {
   "cell_type": "code",
   "execution_count": 321,
   "id": "4dd9fe08",
   "metadata": {},
   "outputs": [
    {
     "data": {
      "image/png": "[encoded data removed]",
      "text/plain": [
       "<Figure size 640x480 with 1 Axes>"
      ]
     },
     "metadata": {},
     "output_type": "display_data"
    }
   ],
   "source": [
    "# A quick visualization of the rating to see the distribution\n",
    "\n",
    "\n",
    "train_data['On a Scale of 1-5 Rate the Place'].value_counts().sort_index().plot(kind='bar', color= 'green')\n",
    "plt.ylabel('review Count')\n",
    "plt.xlabel('review')\n",
    "plt.title('Count of Review');"
   ]
  },
  {
   "cell_type": "markdown",
   "id": "a6b596f7",
   "metadata": {},
   "source": [
    "`BAR PLOT` shows the distribution of each ratings"
   ]
  },
  {
   "cell_type": "markdown",
   "id": "6e7fcd69",
   "metadata": {},
   "source": [
    "**DATA MANIPULATION**"
   ]
  },
  {
   "cell_type": "code",
   "execution_count": 322,
   "id": "49ae3c65",
   "metadata": {},
   "outputs": [
    {
     "data": {
      "text/plain": [
       "On a Scale of 1-5 Rate the Place    30\n",
       "A Detailed Review of the Place       1\n",
       "dtype: int64"
      ]
     },
     "execution_count": 322,
     "metadata": {},
     "output_type": "execute_result"
    }
   ],
   "source": [
    "train_data.isnull().sum()"
   ]
  },
  {
   "cell_type": "code",
   "execution_count": 323,
   "id": "04553dea",
   "metadata": {},
   "outputs": [],
   "source": [
    "# Impute missing values with the mode\n",
    "mode = train_data['On a Scale of 1-5 Rate the Place'].mode()[0]\n",
    "train_data['On a Scale of 1-5 Rate the Place'].fillna(mode, inplace=True)\n",
    "\n",
    "# Remove rows with missing values.\n",
    "train_data.dropna(subset=['A Detailed Review of the Place'], inplace=True)\n",
    "\n"
   ]
  },
  {
   "cell_type": "code",
   "execution_count": 324,
   "id": "974642ec",
   "metadata": {},
   "outputs": [
    {
     "data": {
      "text/plain": [
       "On a Scale of 1-5 Rate the Place    0\n",
       "A Detailed Review of the Place      0\n",
       "dtype: int64"
      ]
     },
     "execution_count": 324,
     "metadata": {},
     "output_type": "execute_result"
    }
   ],
   "source": [
    "train_data.isnull().sum()"
   ]
  },
  {
   "cell_type": "code",
   "execution_count": 325,
   "id": "6fdb7d3f",
   "metadata": {},
   "outputs": [
    {
     "data": {
      "text/plain": [
       "A Detailed Review of the Place    0\n",
       "dtype: int64"
      ]
     },
     "execution_count": 325,
     "metadata": {},
     "output_type": "execute_result"
    }
   ],
   "source": [
    "test_data.isnull().sum()"
   ]
  },
  {
   "cell_type": "markdown",
   "id": "be10828b",
   "metadata": {},
   "source": [
    "There are missing values in On a Scale of 1-5 Rate the Place column which is further imputed with mode value\n",
    "\n",
    "The column - A Detailed Review of the Place has only one missing value which can be dropped off from the dataset."
   ]
  },
  {
   "cell_type": "markdown",
   "id": "f2c6caaa",
   "metadata": {},
   "source": [
    "**Functions to create tokenizer and clean/process the text column**"
   ]
  },
  {
   "cell_type": "code",
   "execution_count": 326,
   "id": "08d9dfc4",
   "metadata": {},
   "outputs": [],
   "source": [
    "stemmer  = SnowballStemmer(language='english') #setup for english language\n",
    "stop_words = stopwords.words('english') # defining stop_words for english language\n",
    "stop_words.remove('not') # removing not from the stop_words list as it contains value in negative movies reviews\n",
    "lemmatizer = WordNetLemmatizer()"
   ]
  },
  {
   "cell_type": "code",
   "execution_count": 327,
   "id": "3c05d8dc",
   "metadata": {},
   "outputs": [],
   "source": [
    "#function to create tokenizer\n",
    "def tokenize(text):\n",
    "    return [stemmer.stem(token) for token in word_tokenize(text)]"
   ]
  },
  {
   "cell_type": "code",
   "execution_count": 328,
   "id": "e08e9c2a",
   "metadata": {},
   "outputs": [
    {
     "data": {
      "text/plain": [
       "['my', 'name', 'is']"
      ]
     },
     "execution_count": 328,
     "metadata": {},
     "output_type": "execute_result"
    }
   ],
   "source": [
    "#  Lets test the tokenize function\n",
    "tokenize(\"my name is\")"
   ]
  },
  {
   "cell_type": "markdown",
   "id": "93f9527b",
   "metadata": {},
   "source": [
    "**Text Pre-processing**"
   ]
  },
  {
   "cell_type": "markdown",
   "id": "1f80b3ae",
   "metadata": {},
   "source": [
    "The dataset has 1 text column which is the `A Detailed Review of the Place` column. Now, let's process the text in the `A Detailed Review of the Place ` column as follows.\n",
    "\n",
    "First, strip all punctuations and html tags and extract only the texts;\n",
    "\n",
    "Second, convert text to lowercase;\n",
    "\n",
    "Finally, convert all phrases to tokens that our model will use."
   ]
  },
  {
   "cell_type": "code",
   "execution_count": 329,
   "id": "51277f29",
   "metadata": {},
   "outputs": [
    {
     "data": {
      "text/html": [
       "<div>\n",
       "<style scoped>\n",
       "    .dataframe tbody tr th:only-of-type {\n",
       "        vertical-align: middle;\n",
       "    }\n",
       "\n",
       "    .dataframe tbody tr th {\n",
       "        vertical-align: top;\n",
       "    }\n",
       "\n",
       "    .dataframe thead th {\n",
       "        text-align: right;\n",
       "    }\n",
       "</style>\n",
       "<table border=\"1\" class=\"dataframe\">\n",
       "  <thead>\n",
       "    <tr style=\"text-align: right;\">\n",
       "      <th></th>\n",
       "      <th>On a Scale of 1-5 Rate the Place</th>\n",
       "      <th>A Detailed Review of the Place</th>\n",
       "      <th>Preprocessed_phrase</th>\n",
       "    </tr>\n",
       "  </thead>\n",
       "  <tbody>\n",
       "    <tr>\n",
       "      <th>0</th>\n",
       "      <td>4.0</td>\n",
       "      <td>Awesome experience with a friend who was in a ...</td>\n",
       "      <td>awesome experience friend hospital cancer late...</td>\n",
       "    </tr>\n",
       "    <tr>\n",
       "      <th>1</th>\n",
       "      <td>3.0</td>\n",
       "      <td>It was a good visit to the Zoo. My son loved a...</td>\n",
       "      <td>good visit zoo son loved could spot animal gre...</td>\n",
       "    </tr>\n",
       "    <tr>\n",
       "      <th>2</th>\n",
       "      <td>3.0</td>\n",
       "      <td>Have been wanting to visit this place since th...</td>\n",
       "      <td>wanting visit place since time came hyderabad ...</td>\n",
       "    </tr>\n",
       "    <tr>\n",
       "      <th>3</th>\n",
       "      <td>2.0</td>\n",
       "      <td>It was too overcrowded even to have a look pro...</td>\n",
       "      <td>overcrowded even look properly went evening ti...</td>\n",
       "    </tr>\n",
       "    <tr>\n",
       "      <th>4</th>\n",
       "      <td>4.0</td>\n",
       "      <td>A land mark which you cannot miss while in the...</td>\n",
       "      <td>land mark miss twin city hyderabad secunderaba...</td>\n",
       "    </tr>\n",
       "  </tbody>\n",
       "</table>\n",
       "</div>"
      ],
      "text/plain": [
       "   On a Scale of 1-5 Rate the Place  \\\n",
       "0                               4.0   \n",
       "1                               3.0   \n",
       "2                               3.0   \n",
       "3                               2.0   \n",
       "4                               4.0   \n",
       "\n",
       "                      A Detailed Review of the Place  \\\n",
       "0  Awesome experience with a friend who was in a ...   \n",
       "1  It was a good visit to the Zoo. My son loved a...   \n",
       "2  Have been wanting to visit this place since th...   \n",
       "3  It was too overcrowded even to have a look pro...   \n",
       "4  A land mark which you cannot miss while in the...   \n",
       "\n",
       "                                 Preprocessed_phrase  \n",
       "0  awesome experience friend hospital cancer late...  \n",
       "1  good visit zoo son loved could spot animal gre...  \n",
       "2  wanting visit place since time came hyderabad ...  \n",
       "3  overcrowded even look properly went evening ti...  \n",
       "4  land mark miss twin city hyderabad secunderaba...  "
      ]
     },
     "execution_count": 329,
     "metadata": {},
     "output_type": "execute_result"
    }
   ],
   "source": [
    "# Initialize the WordNet lemmatizer and stopwords\n",
    "lemmatizer = WordNetLemmatizer()\n",
    "stop_words = set(stopwords.words('english'))\n",
    "\n",
    "# Function to preprocess a single phrase\n",
    "def data_preprocess(phrase):\n",
    "    # Removing HTML tags\n",
    "    phrase = re.sub('<.*?>', '', phrase)\n",
    "    # Taking only alphanumeric characters\n",
    "    phrase = re.sub('[^A-Za-z0-9]+', ' ', phrase)\n",
    "    # Converting to lowercase\n",
    "    phrase = phrase.lower()\n",
    "    # Tokenizing the phrase\n",
    "    tokens = nltk.word_tokenize(phrase)\n",
    "    # Removing stop words and lemmatizing\n",
    "    phrase = [lemmatizer.lemmatize(word) for word in tokens if word not in stop_words]\n",
    "    # Joining the words back into a string\n",
    "    phrase = ' '.join(phrase)\n",
    "    return phrase\n",
    "\n",
    "# Applying the preprocessing function to the DataFrame\n",
    "train_data['Preprocessed_phrase'] = train_data['A Detailed Review of the Place'].apply(data_preprocess)\n",
    "\n",
    "# Displaying the DataFrame\n",
    "train_data.head()\n"
   ]
  },
  {
   "cell_type": "code",
   "execution_count": 330,
   "id": "395f0515",
   "metadata": {},
   "outputs": [
    {
     "data": {
      "text/html": [
       "<div>\n",
       "<style scoped>\n",
       "    .dataframe tbody tr th:only-of-type {\n",
       "        vertical-align: middle;\n",
       "    }\n",
       "\n",
       "    .dataframe tbody tr th {\n",
       "        vertical-align: top;\n",
       "    }\n",
       "\n",
       "    .dataframe thead th {\n",
       "        text-align: right;\n",
       "    }\n",
       "</style>\n",
       "<table border=\"1\" class=\"dataframe\">\n",
       "  <thead>\n",
       "    <tr style=\"text-align: right;\">\n",
       "      <th></th>\n",
       "      <th>A Detailed Review of the Place</th>\n",
       "      <th>Preprocessed_phrase</th>\n",
       "    </tr>\n",
       "  </thead>\n",
       "  <tbody>\n",
       "    <tr>\n",
       "      <th>0</th>\n",
       "      <td>Great hub of hanging out, boating, eating and ...</td>\n",
       "      <td>great hub hanging boating eating recreation bo...</td>\n",
       "    </tr>\n",
       "    <tr>\n",
       "      <th>1</th>\n",
       "      <td>It’s good and it was so long ago that I comple...</td>\n",
       "      <td>good long ago completely forgot experience go ...</td>\n",
       "    </tr>\n",
       "    <tr>\n",
       "      <th>2</th>\n",
       "      <td>Must be an imposing structure but really cant ...</td>\n",
       "      <td>must imposing structure really cant enjoy view...</td>\n",
       "    </tr>\n",
       "    <tr>\n",
       "      <th>3</th>\n",
       "      <td>Hussain Sagar Lake adds a good view but from a...</td>\n",
       "      <td>hussain sagar lake add good view distance part...</td>\n",
       "    </tr>\n",
       "    <tr>\n",
       "      <th>4</th>\n",
       "      <td>The temple is situated on a hilltop.  The view...</td>\n",
       "      <td>temple situated hilltop view top beautiful esp...</td>\n",
       "    </tr>\n",
       "  </tbody>\n",
       "</table>\n",
       "</div>"
      ],
      "text/plain": [
       "                      A Detailed Review of the Place  \\\n",
       "0  Great hub of hanging out, boating, eating and ...   \n",
       "1  It’s good and it was so long ago that I comple...   \n",
       "2  Must be an imposing structure but really cant ...   \n",
       "3  Hussain Sagar Lake adds a good view but from a...   \n",
       "4  The temple is situated on a hilltop.  The view...   \n",
       "\n",
       "                                 Preprocessed_phrase  \n",
       "0  great hub hanging boating eating recreation bo...  \n",
       "1  good long ago completely forgot experience go ...  \n",
       "2  must imposing structure really cant enjoy view...  \n",
       "3  hussain sagar lake add good view distance part...  \n",
       "4  temple situated hilltop view top beautiful esp...  "
      ]
     },
     "execution_count": 330,
     "metadata": {},
     "output_type": "execute_result"
    }
   ],
   "source": [
    "# Applying the preprocessing function to the DataFrame\n",
    "test_data['Preprocessed_phrase'] = test_data['A Detailed Review of the Place'].apply(data_preprocess)\n",
    "\n",
    "# Displaying the DataFrame\n",
    "test_data.head()"
   ]
  },
  {
   "cell_type": "markdown",
   "id": "60df6b61",
   "metadata": {},
   "source": [
    "A column `Preprocssed_phrase` is created in both the train and test datset which will be used for prediction."
   ]
  },
  {
   "cell_type": "markdown",
   "id": "3a6a7320",
   "metadata": {},
   "source": [
    "**DATA MODELING**"
   ]
  },
  {
   "cell_type": "markdown",
   "id": "21672c9c",
   "metadata": {},
   "source": [
    "**Lets split the data into Train and Test(80|20)**"
   ]
  },
  {
   "cell_type": "code",
   "execution_count": 331,
   "id": "bc3845c3",
   "metadata": {},
   "outputs": [
    {
     "name": "stdout",
     "output_type": "stream",
     "text": [
      "Train data: (564, 2) (564,)\n",
      "Test data: (141, 2) (141,)\n"
     ]
    }
   ],
   "source": [
    "from sklearn.model_selection import train_test_split\n",
    "\n",
    "train_df = train_data.copy()\n",
    "y = train_df['On a Scale of 1-5 Rate the Place'].values\n",
    "train_df.drop(['On a Scale of 1-5 Rate the Place'], axis=1, inplace=True)\n",
    "\n",
    "X_train, X_test, y_train, y_test = train_test_split(train_df, y, test_size=0.2, stratify=y)\n",
    "\n",
    "print(\"Train data:\",  X_train.shape, y_train.shape)\n",
    "print(\"Test data:\",  X_test.shape, y_test.shape)"
   ]
  },
  {
   "cell_type": "markdown",
   "id": "4652e699",
   "metadata": {},
   "source": [
    "**Vectorizing the Text Data**\n",
    "\n",
    "In the next step, we will transfer the pre-processed phrase column to a vector representation. The vector representations allows us to train a model based on numerical representations. In this case, we will use CountVectorizer."
   ]
  },
  {
   "cell_type": "code",
   "execution_count": 349,
   "id": "92de5ea1",
   "metadata": {},
   "outputs": [
    {
     "name": "stdout",
     "output_type": "stream",
     "text": [
      "X_train_phrase_bow shape:  (564, 3151)\n",
      "X_test_phrase_bow  shape:  (141, 3151)\n"
     ]
    }
   ],
   "source": [
    "vectorizer = CountVectorizer()\n",
    "\n",
    "X_train_phrase_bow = vectorizer.fit_transform(X_train['Preprocessed_phrase'])\n",
    "X_test_phrase_bow = vectorizer.transform(X_test['Preprocessed_phrase'])\n",
    "\n",
    "print('X_train_phrase_bow shape: ', X_train_phrase_bow.shape)\n",
    "print('X_test_phrase_bow  shape: ', X_test_phrase_bow .shape)"
   ]
  },
  {
   "cell_type": "markdown",
   "id": "ec893cd5",
   "metadata": {},
   "source": [
    "**Model Building**\n",
    "\n",
    "\n",
    "Naive Bayes\n",
    "\n",
    "**Let's train a Multinomial Naive Bayes classifier and evaluate its performance**"
   ]
  },
  {
   "cell_type": "code",
   "execution_count": 350,
   "id": "465f1959",
   "metadata": {},
   "outputs": [
    {
     "name": "stdout",
     "output_type": "stream",
     "text": [
      "Test Accuracy:  0.624113475177305\n"
     ]
    }
   ],
   "source": [
    "clf = MultinomialNB()\n",
    "clf.fit(X_train_phrase_bow, y_train)\n",
    "\n",
    "y_pred = clf.predict(X_test_phrase_bow) #prediction from model\n",
    "print('Test Accuracy: ', accuracy_score(y_test, y_pred)) "
   ]
  },
  {
   "cell_type": "markdown",
   "id": "3aa47875",
   "metadata": {},
   "source": [
    "**Support vector classification**"
   ]
  },
  {
   "cell_type": "code",
   "execution_count": 337,
   "id": "89797bb4",
   "metadata": {},
   "outputs": [
    {
     "name": "stdout",
     "output_type": "stream",
     "text": [
      "Test Accuracy:  0.574468085106383\n"
     ]
    }
   ],
   "source": [
    "svc = SVC()\n",
    "svc.fit(X_train_phrase_bow, y_train)\n",
    "\n",
    "y_pred = svc.predict(X_test_phrase_bow) #prediction from model\n",
    "print('Test Accuracy: ', accuracy_score(y_test, y_pred)) "
   ]
  },
  {
   "cell_type": "markdown",
   "id": "b5ea9b40",
   "metadata": {},
   "source": [
    "**Building a model with Naive Bayes' Term Frequency-Inverse Document Frequency (TFIDF)**"
   ]
  },
  {
   "cell_type": "code",
   "execution_count": 341,
   "id": "8679dc70",
   "metadata": {},
   "outputs": [
    {
     "name": "stdout",
     "output_type": "stream",
     "text": [
      "X_train_phrase_tfidf shape:  (564, 3151)\n",
      "X_test_phrase_tfidf shape:  (141, 3151)\n"
     ]
    }
   ],
   "source": [
    "vectorizer = TfidfVectorizer()\n",
    "\n",
    "X_train_phrase_tfidf = vectorizer.fit_transform(X_train['Preprocessed_phrase'])\n",
    "X_test_phrase_tfidf = vectorizer.transform(X_test['Preprocessed_phrase'])\n",
    "\n",
    "print('X_train_phrase_tfidf shape: ', X_train_phrase_tfidf.shape)\n",
    "print('X_test_phrase_tfidf shape: ', X_test_phrase_tfidf.shape)"
   ]
  },
  {
   "cell_type": "code",
   "execution_count": 342,
   "id": "d2bb9e77",
   "metadata": {},
   "outputs": [
    {
     "name": "stdout",
     "output_type": "stream",
     "text": [
      "Test Accuracy:  0.5531914893617021\n"
     ]
    }
   ],
   "source": [
    "clf = MultinomialNB()\n",
    "clf.fit(X_train_phrase_tfidf, y_train)\n",
    "\n",
    "y_pred = clf.predict(X_test_phrase_tfidf) #prediction from model\n",
    "print('Test Accuracy: ', accuracy_score(y_test, y_pred)) "
   ]
  },
  {
   "cell_type": "markdown",
   "id": "400d788e",
   "metadata": {},
   "source": [
    "After model evaluation we have seen the `Multinomial Naive Bayes classifier` with `Count vectorizer` is perfoming well. \n",
    "\n",
    "Further we are using that model to predict the values on the test data"
   ]
  },
  {
   "cell_type": "code",
   "execution_count": 351,
   "id": "21ac6ba0",
   "metadata": {},
   "outputs": [
    {
     "name": "stdout",
     "output_type": "stream",
     "text": [
      "X_train_phrase_tfidf shape:  (564, 3151)\n",
      "test_data_phrase_tfidf shape:  (348, 3151)\n"
     ]
    }
   ],
   "source": [
    "#vectorizing the Preprocessed_phrase column in test data\n",
    "vectorizer = CountVectorizer()\n",
    "\n",
    "X_train_phrase_bow = vectorizer.fit_transform(X_train['Preprocessed_phrase'])\n",
    "test_data_phrase_cv = vectorizer.transform(test_data['Preprocessed_phrase'])\n",
    "\n",
    "print('X_train_phrase_tfidf shape: ', X_train_phrase_bow.shape)\n",
    "print('test_data_phrase_tfidf shape: ',test_data_phrase_cv.shape)"
   ]
  },
  {
   "cell_type": "code",
   "execution_count": 352,
   "id": "a59f4312",
   "metadata": {},
   "outputs": [],
   "source": [
    "y_pred = clf.predict(test_data_phrase_cv)"
   ]
  },
  {
   "cell_type": "code",
   "execution_count": 353,
   "id": "34c3bf02",
   "metadata": {},
   "outputs": [],
   "source": [
    "# Step 9: Save predictions to test_data DataFrame\n",
    "test_data['Predicted_Rating'] = y_pred"
   ]
  },
  {
   "cell_type": "code",
   "execution_count": 354,
   "id": "bbf023fc",
   "metadata": {},
   "outputs": [
    {
     "data": {
      "text/html": [
       "<div>\n",
       "<style scoped>\n",
       "    .dataframe tbody tr th:only-of-type {\n",
       "        vertical-align: middle;\n",
       "    }\n",
       "\n",
       "    .dataframe tbody tr th {\n",
       "        vertical-align: top;\n",
       "    }\n",
       "\n",
       "    .dataframe thead th {\n",
       "        text-align: right;\n",
       "    }\n",
       "</style>\n",
       "<table border=\"1\" class=\"dataframe\">\n",
       "  <thead>\n",
       "    <tr style=\"text-align: right;\">\n",
       "      <th></th>\n",
       "      <th>A Detailed Review of the Place</th>\n",
       "      <th>Preprocessed_phrase</th>\n",
       "      <th>Predicted_Rating</th>\n",
       "    </tr>\n",
       "  </thead>\n",
       "  <tbody>\n",
       "    <tr>\n",
       "      <th>0</th>\n",
       "      <td>Great hub of hanging out, boating, eating and ...</td>\n",
       "      <td>great hub hanging boating eating recreation bo...</td>\n",
       "      <td>4.0</td>\n",
       "    </tr>\n",
       "    <tr>\n",
       "      <th>1</th>\n",
       "      <td>It’s good and it was so long ago that I comple...</td>\n",
       "      <td>good long ago completely forgot experience go ...</td>\n",
       "      <td>5.0</td>\n",
       "    </tr>\n",
       "    <tr>\n",
       "      <th>2</th>\n",
       "      <td>Must be an imposing structure but really cant ...</td>\n",
       "      <td>must imposing structure really cant enjoy view...</td>\n",
       "      <td>5.0</td>\n",
       "    </tr>\n",
       "    <tr>\n",
       "      <th>3</th>\n",
       "      <td>Hussain Sagar Lake adds a good view but from a...</td>\n",
       "      <td>hussain sagar lake add good view distance part...</td>\n",
       "      <td>4.0</td>\n",
       "    </tr>\n",
       "    <tr>\n",
       "      <th>4</th>\n",
       "      <td>The temple is situated on a hilltop.  The view...</td>\n",
       "      <td>temple situated hilltop view top beautiful esp...</td>\n",
       "      <td>4.0</td>\n",
       "    </tr>\n",
       "  </tbody>\n",
       "</table>\n",
       "</div>"
      ],
      "text/plain": [
       "                      A Detailed Review of the Place  \\\n",
       "0  Great hub of hanging out, boating, eating and ...   \n",
       "1  It’s good and it was so long ago that I comple...   \n",
       "2  Must be an imposing structure but really cant ...   \n",
       "3  Hussain Sagar Lake adds a good view but from a...   \n",
       "4  The temple is situated on a hilltop.  The view...   \n",
       "\n",
       "                                 Preprocessed_phrase  Predicted_Rating  \n",
       "0  great hub hanging boating eating recreation bo...               4.0  \n",
       "1  good long ago completely forgot experience go ...               5.0  \n",
       "2  must imposing structure really cant enjoy view...               5.0  \n",
       "3  hussain sagar lake add good view distance part...               4.0  \n",
       "4  temple situated hilltop view top beautiful esp...               4.0  "
      ]
     },
     "execution_count": 354,
     "metadata": {},
     "output_type": "execute_result"
    }
   ],
   "source": [
    "test_data.head()"
   ]
  },
  {
   "cell_type": "code",
   "execution_count": 355,
   "id": "4bca6111",
   "metadata": {},
   "outputs": [
    {
     "data": {
      "text/plain": [
       "5.0    245\n",
       "4.0     88\n",
       "3.0      9\n",
       "2.0      3\n",
       "1.0      3\n",
       "Name: Predicted_Rating, dtype: int64"
      ]
     },
     "execution_count": 355,
     "metadata": {},
     "output_type": "execute_result"
    }
   ],
   "source": [
    "test_data.Predicted_Rating.value_counts()"
   ]
  },
  {
   "cell_type": "markdown",
   "id": "10ae420a",
   "metadata": {},
   "source": [
    "**Conclusion**"
   ]
  },
  {
   "cell_type": "markdown",
   "id": "eeacc0d8",
   "metadata": {},
   "source": [
    "The Multinomial Naive Bayes classifier(CV) model performed better than the SVC and the Naive Bayes(TFIDF) with accuracy of 62%. This could be due to the characteristics of the dataset, including the distribution of classes and the balance between classes."
   ]
  },
  {
   "cell_type": "code",
   "execution_count": null,
   "id": "e0c9eecf",
   "metadata": {},
   "outputs": [],
   "source": []
  }
 ],
 "metadata": {
  "kernelspec": {
   "display_name": "Python 3 (ipykernel)",
   "language": "python",
   "name": "python3"
  },
  "language_info": {
   "codemirror_mode": {
    "name": "ipython",
    "version": 3
   },
   "file_extension": ".py",
   "mimetype": "text/x-python",
   "name": "python",
   "nbconvert_exporter": "python",
   "pygments_lexer": "ipython3",
   "version": "3.11.4"
  }
 },
 "nbformat": 4,
 "nbformat_minor": 5
}
